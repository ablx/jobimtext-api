{
 "cells": [
  {
   "cell_type": "markdown",
   "metadata": {},
   "source": [
    "# JoBimText Python API"
   ]
  },
  {
   "cell_type": "markdown",
   "metadata": {},
   "source": [
    "This package is a (inofficial) thin wrapper around the REST Api of JoBimText.\n",
    "\n",
    "\n",
    "Per default, JoBimText points to the demo at [JoBimViz — Web Demo | JoBimText](http://ltmaggie.informatik.uni-hamburg.de/jobimtext/jobimviz-web-demo/)\n",
    "You can run a local version, see \n",
    "[Installation | JoBimText](http://ltmaggie.informatik.uni-hamburg.de/jobimtext/documentation/installation/)"
   ]
  },
  {
   "cell_type": "markdown",
   "metadata": {},
   "source": [
    "## Installation\n",
    "You can easily install the api with pip: `pip3 install git+https://github.com/ablx/jobimtext-api.git`"
   ]
  },
  {
   "cell_type": "code",
   "execution_count": 1,
   "metadata": {},
   "outputs": [],
   "source": [
    "from jobimtextapi.jobimtext import JoBimText\n",
    "# change the api_url if you run a local version. \n",
    "# Recommended for any production-like use.\n",
    "api = JoBimText(api_url='http://ltmaggie.informatik.uni-hamburg.de/jobimviz/ws')"
   ]
  },
  {
   "cell_type": "markdown",
   "metadata": {},
   "source": [
    "## General"
   ]
  },
  {
   "cell_type": "markdown",
   "metadata": {},
   "source": [
    "All methods return an instance / subtype of `BaseRespose`.\n",
    "\n",
    "- baseResponse._raw = the raw json answer\n",
    "- baseResponse.url = the endpoint url\n",
    "- baseResponse.has_error() = `true`if an error occured\n",
    "- baseResponse.error = the error message"
   ]
  },
  {
   "cell_type": "markdown",
   "metadata": {},
   "source": [
    "Each method can take url parameters as a map (`url_params={}`). \n",
    "At the moment, only JSON responses are supported.\n",
    "\n"
   ]
  },
  {
   "cell_type": "markdown",
   "metadata": {},
   "source": [
    "## API Methods"
   ]
  },
  {
   "cell_type": "markdown",
   "metadata": {},
   "source": [
    "### GET /holing/{holingtype}?s={sentence}"
   ]
  },
  {
   "cell_type": "code",
   "execution_count": 2,
   "metadata": {},
   "outputs": [
    {
     "name": "stdout",
     "output_type": "stream",
     "text": [
      "The raw json:\n",
      "{'error': None, 'input': 'Feed the cat.', 'holingtype': {'name': 'stanford', 'isDefault': False}, 'holings': [{'key': {'key': 'feed#VB', 'begin': 0, 'end': 4}, 'values': [{'value': 'cat#NN', 'begin': 9, 'end': 12, 'relation': 'dobj'}], 'relation': 'dobj', 'relationString': 'cat#NN#dobj', 'similar': None}, {'key': {'key': 'the#DT', 'begin': 5, 'end': 8}, 'values': [{'value': 'cat#NN', 'begin': 9, 'end': 12, 'relation': '-det'}], 'relation': '-det', 'relationString': 'cat#NN#-det', 'similar': None}, {'key': {'key': 'cat#NN', 'begin': 9, 'end': 12}, 'values': [{'value': 'the#DT', 'begin': 5, 'end': 8, 'relation': 'det'}], 'relation': 'det', 'relationString': 'the#DT#det', 'similar': None}, {'key': {'key': 'cat#NN', 'begin': 9, 'end': 12}, 'values': [{'value': 'feed#VB', 'begin': 0, 'end': 4, 'relation': '-dobj'}], 'relation': '-dobj', 'relationString': 'feed#VB#-dobj', 'similar': None}]}\n",
      "API URL:\n",
      "http://ltmaggie.informatik.uni-hamburg.de/jobimviz/ws/holing/stanford\n",
      "Did an error occur? False\n",
      "Which error?: None\n"
     ]
    },
    {
     "data": {
      "text/plain": [
       "[{'key': {'begin': 0, 'end': 4, 'key': 'feed#VB'},\n",
       "  'relation': 'dobj',\n",
       "  'relationString': 'cat#NN#dobj',\n",
       "  'similar': None,\n",
       "  'values': [{'begin': 9, 'end': 12, 'relation': 'dobj', 'value': 'cat#NN'}]},\n",
       " {'key': {'begin': 5, 'end': 8, 'key': 'the#DT'},\n",
       "  'relation': '-det',\n",
       "  'relationString': 'cat#NN#-det',\n",
       "  'similar': None,\n",
       "  'values': [{'begin': 9, 'end': 12, 'relation': '-det', 'value': 'cat#NN'}]},\n",
       " {'key': {'begin': 9, 'end': 12, 'key': 'cat#NN'},\n",
       "  'relation': 'det',\n",
       "  'relationString': 'the#DT#det',\n",
       "  'similar': None,\n",
       "  'values': [{'begin': 5, 'end': 8, 'relation': 'det', 'value': 'the#DT'}]},\n",
       " {'key': {'begin': 9, 'end': 12, 'key': 'cat#NN'},\n",
       "  'relation': '-dobj',\n",
       "  'relationString': 'feed#VB#-dobj',\n",
       "  'similar': None,\n",
       "  'values': [{'begin': 0, 'end': 4, 'relation': '-dobj', 'value': 'feed#VB'}]}]"
      ]
     },
     "execution_count": 2,
     "metadata": {},
     "output_type": "execute_result"
    }
   ],
   "source": [
    "holing_response = api.holing('Feed the cat.')\n",
    "\n",
    "print('The raw json:\\n{}'.format(holing_response._raw))\n",
    "print('API URL:\\n{}'.format(holing_response.url))\n",
    "print('Did an error occur? {}'.format(holing_response.has_error()))\n",
    "print('Which error?: {}'.format(holing_response.error))\n",
    "holing_response.holings"
   ]
  },
  {
   "cell_type": "markdown",
   "metadata": {},
   "source": [
    "### POST /holing/{holingtype}"
   ]
  },
  {
   "cell_type": "markdown",
   "metadata": {},
   "source": [
    "Not supported atm."
   ]
  },
  {
   "cell_type": "markdown",
   "metadata": {},
   "source": [
    "### GET /api/{holingtype}/jo/similar/{term}"
   ]
  },
  {
   "cell_type": "code",
   "execution_count": 3,
   "metadata": {},
   "outputs": [
    {
     "name": "stdout",
     "output_type": "stream",
     "text": [
      "{'score': 256.0, 'key': 'peach#NN', 'contextScores': None}\n",
      "None\n",
      "peach#NN\n",
      "256.0\n",
      "peach\n",
      "NN\n"
     ]
    }
   ],
   "source": [
    "similar_response = api.similar('apple',pos='NN',url_params={},holingtype='stanford')\n",
    "\n",
    "similar = similar_response.with_score(min_score=200, max_score=400)\n",
    "similar_term = similar[0]\n",
    "print(similar_term._raw)\n",
    "print(similar_term.context_scores)\n",
    "print(similar_term.key)\n",
    "print(similar_term.score)\n",
    "print(similar_term.term)\n",
    "print(similar_term.pos)"
   ]
  },
  {
   "cell_type": "markdown",
   "metadata": {},
   "source": [
    "### GET /api/{holingtype}/jo/count/{term}"
   ]
  },
  {
   "cell_type": "code",
   "execution_count": 4,
   "metadata": {},
   "outputs": [
    {
     "name": "stdout",
     "output_type": "stream",
     "text": [
      "180045\n"
     ]
    }
   ],
   "source": [
    "count_response = api.jo_count('apple', pos='NP', holingtype='stanford')\n",
    "print(count_response.count)"
   ]
  },
  {
   "cell_type": "markdown",
   "metadata": {},
   "source": [
    "### GET /api/{holingtype}/jo/senses/{term}"
   ]
  },
  {
   "cell_type": "code",
   "execution_count": 5,
   "metadata": {},
   "outputs": [
    {
     "name": "stdout",
     "output_type": "stream",
     "text": [
      "0\n",
      "IsAs ['test:220', 'technology:160', 'procedure:85', 'service:78', 'tool:77', 'diagnostic test:72', 'imaging technology:64', 'equipment:30', 'â€\\x9d:27', 'technique:25']\n",
      "Senses ['ct#NP', 'mri#NP', 'scan#NP', 'ultrasound#NN', 'ultrasound#NP']\n"
     ]
    }
   ],
   "source": [
    "senses_response = api.senses('cat', pos='NP', holingtype='stanford')\n",
    "\n",
    "senses = senses_response.senses\n",
    "print(senses[0].cui)\n",
    "print('IsAs {}'.format(senses[0].isas))\n",
    "print('Senses {}'.format(senses[0].senses))"
   ]
  },
  {
   "cell_type": "code",
   "execution_count": 6,
   "metadata": {},
   "outputs": [
    {
     "name": "stdout",
     "output_type": "stream",
     "text": [
      "Is cat#NP a technology?\n"
     ]
    },
    {
     "data": {
      "text/plain": [
       "(True, <jobimtextapi.responses.SensesResponse.Sense at 0x10926d8d0>)"
      ]
     },
     "execution_count": 6,
     "metadata": {},
     "output_type": "execute_result"
    }
   ],
   "source": [
    "print('Is cat#NP a technology?')\n",
    "senses_response.isas('technology')"
   ]
  },
  {
   "cell_type": "code",
   "execution_count": 7,
   "metadata": {},
   "outputs": [
    {
     "name": "stdout",
     "output_type": "stream",
     "text": [
      "in the sense of \"ct\"?\n"
     ]
    },
    {
     "data": {
      "text/plain": [
       "(True, 'ct')"
      ]
     },
     "execution_count": 7,
     "metadata": {},
     "output_type": "execute_result"
    }
   ],
   "source": [
    "print('in the sense of \"ct\"?')\n",
    "senses_response.has_sense('ct', 'NP')"
   ]
  },
  {
   "cell_type": "markdown",
   "metadata": {},
   "source": [
    "### GET /api/{holingtype}/jo/isas/{term}"
   ]
  },
  {
   "cell_type": "code",
   "execution_count": 8,
   "metadata": {},
   "outputs": [
    {
     "name": "stdout",
     "output_type": "stream",
     "text": [
      "0\n",
      "IsAs ['test:220', 'technology:160', 'procedure:85', 'service:78', 'tool:77']\n",
      "Senses ['ct#NP', 'mri#NP', 'scan#NP', 'ultrasound#NN', 'ultrasound#NP']\n"
     ]
    }
   ],
   "source": [
    "senses_response_2 = api.isas('cat', 'NP', holingtype='stanford')\n",
    "senses_2 = senses_response_2.senses\n",
    "print(senses_2[0].cui)\n",
    "print('IsAs {}'.format(senses_2[0].isas[:5]))\n",
    "print('Senses {}'.format(senses_2[0].senses[:5]))"
   ]
  },
  {
   "cell_type": "markdown",
   "metadata": {},
   "source": [
    "### GET /api/{holingtype}/jo/similar-score/{term1}/{term2}"
   ]
  },
  {
   "cell_type": "code",
   "execution_count": 9,
   "metadata": {},
   "outputs": [
    {
     "data": {
      "text/plain": [
       "74.0"
      ]
     },
     "execution_count": 9,
     "metadata": {},
     "output_type": "execute_result"
    }
   ],
   "source": [
    "similar_score_response = api.similar_score('cat', 'NN', 'rodent', 'NN', holingtype='stanford')\n",
    "similar_score_response.score"
   ]
  },
  {
   "cell_type": "markdown",
   "metadata": {},
   "source": [
    "### GET /api/{holingtype}/jo/bim/count/{term}/{context}"
   ]
  },
  {
   "cell_type": "code",
   "execution_count": 10,
   "metadata": {},
   "outputs": [
    {
     "data": {
      "text/plain": [
       "0"
      ]
     },
     "execution_count": 10,
     "metadata": {},
     "output_type": "execute_result"
    }
   ],
   "source": [
    "count_response = api.jo_bim_count('cat', 'NN', 'chase', 'VB', context='subj', holingtype='stanford')\n",
    "count_response.count"
   ]
  },
  {
   "cell_type": "markdown",
   "metadata": {},
   "source": [
    "###  GET /api/{holingtype}/jo/bim/score/{term}/{context}"
   ]
  },
  {
   "cell_type": "code",
   "execution_count": 11,
   "metadata": {},
   "outputs": [
    {
     "data": {
      "text/plain": [
       "'http://ltmaggie.informatik.uni-hamburg.de/jobimviz/ws/api/stanford/jo/bim/score/cat%23NN/chase%23VB%23subj'"
      ]
     },
     "execution_count": 11,
     "metadata": {},
     "output_type": "execute_result"
    }
   ],
   "source": [
    "score_response = api.jo_bim_score('cat', 'NN', 'chase', 'VB', 'subj')\n",
    "score_response.url"
   ]
  },
  {
   "cell_type": "markdown",
   "metadata": {},
   "source": [
    "### GET /api/{holingtype}/jo/bim/score/{term}/"
   ]
  },
  {
   "cell_type": "code",
   "execution_count": 12,
   "metadata": {},
   "outputs": [
    {
     "name": "stdout",
     "output_type": "stream",
     "text": [
      "50\n",
      "http://ltmaggie.informatik.uni-hamburg.de/jobimviz/ws/api/stanford/jo/bim/score/mouse%23NN\n",
      "None\n",
      "click#NN#-prep_of\n",
      "14433.608292713401\n"
     ]
    }
   ],
   "source": [
    "context_score_response = api.bim_score('mouse', 'NN', url_params={'numberOfEntries' : 50})\n",
    "print(context_score_response.result_count)\n",
    "print(context_score_response.url)\n",
    "first_context = context_score_response.contexts[0]\n",
    "print(first_context.count)\n",
    "print(first_context.key)\n",
    "print(first_context.score)"
   ]
  }
 ],
 "metadata": {
  "kernelspec": {
   "display_name": "Python 3",
   "language": "python",
   "name": "python3"
  },
  "language_info": {
   "codemirror_mode": {
    "name": "ipython",
    "version": 3
   },
   "file_extension": ".py",
   "mimetype": "text/x-python",
   "name": "python",
   "nbconvert_exporter": "python",
   "pygments_lexer": "ipython3",
   "version": "3.6.4"
  }
 },
 "nbformat": 4,
 "nbformat_minor": 2
}
